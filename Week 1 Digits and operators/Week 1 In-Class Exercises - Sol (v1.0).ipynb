{
 "cells": [
  {
   "cell_type": "markdown",
   "source": [
    "<table class=\"table table-bordered\">\r\n",
    "    <tr>\r\n",
    "        <th style=\"text-align:center; width:35%\"><img src='https://scis.smu.edu.sg/sites/all/themes/smubase_nw2_rev/svg/logo-d-smu.svg' style=\"width: 300px; height: 90px; \"></th>\r\n",
    "        <th style=\"text-align:center;\"><h3>IS111 - In-Class Exercises</h3><h3>Week 1</h3></th>\r\n",
    "    </tr>\r\n",
    "</table>"
   ],
   "metadata": {}
  },
  {
   "cell_type": "markdown",
   "source": [
    "### Q1: Operators\n",
    "\n",
    "Without running the code below, what do you think the output will be?"
   ],
   "metadata": {}
  },
  {
   "cell_type": "code",
   "execution_count": null,
   "source": [
    "print(2 + 3 * 3 / 5 - 2 + 8 % 5)\r\n",
    "print(15 % 5 - 15 / 5)\r\n",
    "print(10 / 2.5 / 2 - 5)\r\n",
    "print(11 // 4 * 2)\r\n",
    "print((3 + 5) * 2 % 3)\r\n",
    "print(2 + 3 * 6 % 3 ** 2 - 1)\r\n",
    "print(\"abc\" + \" \" + \"def\")\r\n",
    "print(\"abc\" + 123)"
   ],
   "outputs": [],
   "metadata": {
    "tags": []
   }
  },
  {
   "cell_type": "markdown",
   "source": [
    "### Q2: BMI Calculator\n",
    "\n",
    "You have probably heard about the body mass index or BMI. The definition of BMI from Wikipedia can be found below:\n",
    "\n",
    "\"The body mass index (BMI) or Quetelet index is a value derived from the mass (weight) and height of an individual. The BMI is defined as the body mass divided by the square of the body height, and is universally expressed in units of $\\text{kg}/\\text{m}^2$, resulting from mass in kilograms and height in metres.\"\n",
    "\n",
    "The formula to calculate BMI is also given below:\n",
    "\n",
    "$$\\text{BMI} = \\frac{\\text{mass}}{\\text{height}^2}$$\n",
    "\n",
    "Here mass is in kilograms and height is in metres.\n",
    "\n",
    "Write a piece of Python code that does the following:\n",
    "\n",
    "<ul>\n",
    "    <li>It prompts the user for his/her weight in kilograms.</li>\n",
    "    <li>It then prompts the user for his/her height in metres.</li>\n",
    "    <li>It calculates the BMI of this person and displays the BMI value to the screen.</li>\n",
    "</ul>\n",
    "\n",
    "A sample run of the code gives the following output:\n",
    "\n",
    "<img src=\"http://drive.google.com/uc?export=view&id=0B3N0YMArBdSBdHZqdnhDT2xzSEk\">"
   ],
   "metadata": {}
  },
  {
   "cell_type": "code",
   "execution_count": null,
   "source": [
    "# Write your code below:\r\n",
    "weight = float(input(\"What is your weight? \")) \r\n",
    "height = float(input(\"What is your height? \"))\r\n",
    "bmi = weight / (height * height) \r\n",
    "print(\"Your bmi is\", bmi)"
   ],
   "outputs": [],
   "metadata": {}
  },
  {
   "cell_type": "markdown",
   "source": [
    "### Q3: Odd/Even Numbers\n",
    "\n",
    "Write a piece of Python code that does the following:\n",
    "\n",
    "<ul>\n",
    "    <li>It sequentially prompts the user for 4 integers.</li>\n",
    "    <li>It computes and displays the percentage of odd numbers and even numbers for these 4 integers, without using any conditional statements like if-then-else.</li>\n",
    "</ul>\n",
    "\n",
    "For instance, if the 4 numbers are 1, 7, 4, 6, then the percentage of odd and even numbers that are generated are 50% and 50% respectively. If the 4 numbers are 4, 2, 8, 5, then the percentage of odd and even numbers that are generated are 75% and 25% respectively.\n",
    "\n",
    "Hint: You may want to use the modulo-2 operation to determine if a number is odd or even.\n"
   ],
   "metadata": {}
  },
  {
   "cell_type": "code",
   "execution_count": null,
   "source": [
    "num_1 = int(input(\"Please enter the 1st number: \"))\r\n",
    "num_2 = int(input(\"Please enter the 2nd number: \"))\r\n",
    "num_3 = int(input(\"Please enter the 3rd number: \"))\r\n",
    "num_4 = int(input(\"Please enter the 4th number: \"))\r\n",
    "\r\n",
    "odd_percent = (num_1%2 + num_2%2 + num_3%2 + num_4%2)/4\r\n",
    "even_percent = 1 - odd_percent\r\n",
    "\r\n",
    "print(f\"Percentage of even numbers: {even_percent*100:.0f}%\")\r\n",
    "print(f\"Percentage of odd numbers: {odd_percent*100:.0f}%\")"
   ],
   "outputs": [],
   "metadata": {
    "tags": []
   }
  }
 ],
 "metadata": {
  "kernelspec": {
   "name": "python3",
   "display_name": "Python 3.8.8 64-bit ('base': conda)"
  },
  "language_info": {
   "codemirror_mode": {
    "name": "ipython",
    "version": 3
   },
   "file_extension": ".py",
   "mimetype": "text/x-python",
   "name": "python",
   "nbconvert_exporter": "python",
   "pygments_lexer": "ipython3",
   "version": "3.8.8"
  },
  "interpreter": {
   "hash": "951e67ffb7f3bd0913ac5cd4eb4e94b70128659a1c74ea9a34ac16faced73bb7"
  }
 },
 "nbformat": 4,
 "nbformat_minor": 2
}